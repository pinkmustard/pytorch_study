{
 "cells": [
  {
   "cell_type": "code",
   "execution_count": 1,
   "metadata": {},
   "outputs": [
    {
     "name": "stdout",
     "output_type": "stream",
     "text": [
      "기울기 w.r.t. w0: -0.1966119408607483\n",
      "기울기 w.r.t. w1: -0.3932238817214966\n",
      "기울기 w.r.t. b: 0.1966119408607483\n"
     ]
    }
   ],
   "source": [
    "import torch\n",
    "\n",
    "w0 = torch.tensor([2.0], requires_grad=True)\n",
    "x0 = torch.tensor([-1.0])\n",
    "w1 = torch.tensor([-3.0], requires_grad=True)\n",
    "x1 = torch.tensor([-2.0])\n",
    "b = torch.tensor([-3.0], requires_grad=True)\n",
    "\n",
    "f_x_w = 1 / (1 + torch.exp(-(w0 * x0 + w1 * x1 + b)))\n",
    "f_x_w.backward()\n",
    "\n",
    "gradient_w0 = w0.grad\n",
    "gradient_w1 = w1.grad\n",
    "gradient_b = b.grad\n",
    "\n",
    "print(\"기울기 w.r.t. w0:\", gradient_w0.item())\n",
    "print(\"기울기 w.r.t. w1:\", gradient_w1.item())\n",
    "print(\"기울기 w.r.t. b:\", gradient_b.item())\n"
   ]
  },
  {
   "cell_type": "code",
   "execution_count": 25,
   "metadata": {},
   "outputs": [
    {
     "name": "stdout",
     "output_type": "stream",
     "text": [
      "기울기 w.r.t. w0: 2.7182817459106445\n",
      "기울기 w.r.t. w1: 5.436563491821289\n",
      "기울기 w.r.t. w2: 8.154845237731934\n",
      "기울기 w.r.t. w3: 10.873126983642578\n",
      "기울기 w.r.t. b: 2.7182817459106445\n"
     ]
    }
   ],
   "source": [
    "import torch\n",
    "\n",
    "w0 = torch.tensor([1.0], requires_grad=True)\n",
    "x0 = torch.tensor([1.0])\n",
    "w1 = torch.tensor([2.0], requires_grad=True)\n",
    "x1 = torch.tensor([2.0])\n",
    "w2 = torch.tensor([3.0], requires_grad=True)\n",
    "x2 = torch.tensor([3.0])\n",
    "w3 = torch.tensor([4.0], requires_grad=True)\n",
    "x3 = torch.tensor([4.0])\n",
    "b = torch.tensor([-29.0], requires_grad=True)\n",
    "\n",
    "# f_x_w = 1 / (1 + torch.exp(-(w0 * x0 + w1 * x1 + w2 * x2 + w3 * x3 + b)))\n",
    "f_x_w = torch.exp(w0 * x0 + w1 * x1 + w2 * x2 + w3 * x3 + b)+1\n",
    "f_x_w.backward()\n",
    "\n",
    "gradient_w0 = w0.grad\n",
    "gradient_w1 = w1.grad\n",
    "gradient_w2 = w2.grad\n",
    "gradient_w3 = w3.grad\n",
    "gradient_b = b.grad\n",
    "\n",
    "print(\"기울기 w.r.t. w0:\", gradient_w0.item())\n",
    "print(\"기울기 w.r.t. w1:\", gradient_w1.item())\n",
    "print(\"기울기 w.r.t. w2:\", gradient_w2.item())\n",
    "print(\"기울기 w.r.t. w3:\", gradient_w3.item())\n",
    "print(\"기울기 w.r.t. b:\", gradient_b.item())\n"
   ]
  }
 ],
 "metadata": {
  "kernelspec": {
   "display_name": "pytorchlearn",
   "language": "python",
   "name": "python3"
  },
  "language_info": {
   "codemirror_mode": {
    "name": "ipython",
    "version": 3
   },
   "file_extension": ".py",
   "mimetype": "text/x-python",
   "name": "python",
   "nbconvert_exporter": "python",
   "pygments_lexer": "ipython3",
   "version": "3.8.15"
  }
 },
 "nbformat": 4,
 "nbformat_minor": 2
}
