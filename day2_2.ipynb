{
 "cells": [
  {
   "cell_type": "code",
   "execution_count": 36,
   "metadata": {},
   "outputs": [
    {
     "data": {
      "image/png": "[encoded data removed]",
      "text/plain": [
       "<Figure size 640x480 with 1 Axes>"
      ]
     },
     "metadata": {},
     "output_type": "display_data"
    }
   ],
   "source": [
    "import pandas as pd\n",
    "import torch\n",
    "import matplotlib.pyplot as plt\n",
    "from torch import nn\n",
    "\n",
    "# CSV 파일 읽기\n",
    "data = pd.read_csv('data/02_Linear_Regression_Model_Data.csv')\n",
    "\n",
    "# 데이터를 PyTorch 텐서로 변환\n",
    "x = torch.from_numpy(data['x'].values).unsqueeze(dim=1).float()\n",
    "y = torch.from_numpy(data['y'].values).unsqueeze(dim=1).float()\n",
    "\n",
    "# 데이터 플로팅\n",
    "plt.xlim(0, 11)\n",
    "plt.ylim(0, 8)\n",
    "plt.title(\"Linear_reg_Model\")\n",
    "plt.scatter(x, y)\n",
    "plt.show()\n"
   ]
  },
  {
   "cell_type": "code",
   "execution_count": 39,
   "metadata": {},
   "outputs": [
    {
     "name": "stdout",
     "output_type": "stream",
     "text": [
      "Step 0, Loss: 24.09152603149414\n",
      "Step 20, Loss: 0.4458627700805664\n",
      "Step 40, Loss: 0.3830784261226654\n",
      "Step 60, Loss: 0.3300212621688843\n",
      "Step 80, Loss: 0.28518423438072205\n",
      "Step 100, Loss: 0.24729368090629578\n",
      "Step 120, Loss: 0.21527354419231415\n",
      "Step 140, Loss: 0.18821431696414948\n",
      "Step 160, Loss: 0.16534732282161713\n",
      "Step 180, Loss: 0.14602313935756683\n",
      "Step 200, Loss: 0.1296927034854889\n",
      "Step 220, Loss: 0.11589246988296509\n",
      "Step 240, Loss: 0.10423028469085693\n",
      "Step 260, Loss: 0.09437492489814758\n",
      "Step 280, Loss: 0.08604641258716583\n",
      "Step 300, Loss: 0.07900829613208771\n",
      "Step 320, Loss: 0.073060542345047\n",
      "Step 340, Loss: 0.06803429126739502\n",
      "Step 360, Loss: 0.06378675997257233\n",
      "Step 380, Loss: 0.060197241604328156\n",
      "Step 400, Loss: 0.057163894176483154\n",
      "Step 420, Loss: 0.05460049584507942\n",
      "Step 440, Loss: 0.05243424326181412\n",
      "Step 460, Loss: 0.050603579729795456\n",
      "Step 480, Loss: 0.04905655235052109\n"
     ]
    }
   ],
   "source": [
    "\n",
    "model = nn.Linear(in_features=1, out_features=1)\n",
    "criterion = nn.MSELoss()\n",
    "optimizer = torch.optim.SGD(params=model.parameters(), lr=0.01)\n",
    "\n",
    "for step in range(500):\n",
    "    pred = model(x)\n",
    "    loss = criterion(input=pred, target=y)\n",
    "    optimizer.zero_grad()\n",
    "    loss.backward()\n",
    "    optimizer.step()\n",
    "\n",
    "    if step % 20 == 0:\n",
    "        print(f\"Step {step}, Loss: {loss.item()}\")"
   ]
  },
  {
   "cell_type": "code",
   "execution_count": 28,
   "metadata": {},
   "outputs": [
    {
     "name": "stdout",
     "output_type": "stream",
     "text": [
      "torch.Size([10, 1]) torch.Size([10, 1])\n"
     ]
    }
   ],
   "source": [
    "print(x.shape, y.shape)"
   ]
  },
  {
   "cell_type": "code",
   "execution_count": 29,
   "metadata": {},
   "outputs": [
    {
     "name": "stdout",
     "output_type": "stream",
     "text": [
      "torch.Size([442, 10]) torch.Size([442])\n"
     ]
    }
   ],
   "source": [
    "# practice 2\n",
    "import sklearn.datasets\n",
    "diabets = sklearn.datasets.load_diabetes()\n",
    "x = torch.from_numpy(diabets['data'])\n",
    "y = torch.from_numpy(diabets['target'])\n",
    "\n",
    "print(x.shape, y.shape)"
   ]
  },
  {
   "cell_type": "code",
   "execution_count": 49,
   "metadata": {},
   "outputs": [
    {
     "name": "stdout",
     "output_type": "stream",
     "text": [
      "Epoch [100/1000], Loss: nan\n",
      "Epoch [200/1000], Loss: nan\n",
      "Epoch [300/1000], Loss: nan\n",
      "Epoch [400/1000], Loss: nan\n",
      "Epoch [500/1000], Loss: nan\n",
      "Epoch [600/1000], Loss: nan\n",
      "Epoch [700/1000], Loss: nan\n",
      "Epoch [800/1000], Loss: nan\n",
      "Epoch [900/1000], Loss: nan\n",
      "Epoch [1000/1000], Loss: nan\n"
     ]
    }
   ],
   "source": [
    "import torch\n",
    "import torch.nn as nn\n",
    "import torch.optim as optim\n",
    "import sklearn.datasets\n",
    "\n",
    "# 당뇨병 데이터셋 로드\n",
    "diabetes = sklearn.datasets.load_diabetes()\n",
    "x = torch.from_numpy(diabetes['data']).float()\n",
    "y = torch.from_numpy(diabetes['target']).float().view(-1, 1)\n",
    "\n",
    "# 모델 정의\n",
    "class CustomModel(nn.Module):\n",
    "    def __init__(self):\n",
    "        super().__init__()\n",
    "        self.linear1 = nn.Linear(x.size(1), 5)\n",
    "        self.linear2 = nn.Linear(5, 1)\n",
    "        \n",
    "    def forward(self, x):\n",
    "        x_temp = self.linear1(x)\n",
    "        x_temp2 = self.linear2(x_temp)\n",
    "        return x_temp2\n",
    "\n",
    "model = CustomModel()\n",
    "\n",
    "# 손실 함수 및 옵티마이저 정의\n",
    "criterion = nn.MSELoss()\n",
    "optimizer = optim.SGD(model.parameters(), lr=0.01)\n",
    "\n",
    "# 훈련\n",
    "epochs = 1000\n",
    "for epoch in range(epochs):\n",
    "    # Forward pass\n",
    "    predictions = model(x)\n",
    "    \n",
    "    # Loss 계산\n",
    "    loss = criterion(predictions, y)\n",
    "    \n",
    "    # Backward pass 및 가중치 업데이트\n",
    "    optimizer.zero_grad()\n",
    "    loss.backward()\n",
    "    optimizer.step()\n",
    "    \n",
    "    # 매 100번째 epoch마다 loss 출력\n",
    "    if (epoch + 1) % 100 == 0:\n",
    "        print(f'Epoch [{epoch+1}/{epochs}], Loss: {loss.item():.4f}')\n"
   ]
  },
  {
   "cell_type": "code",
   "execution_count": 48,
   "metadata": {},
   "outputs": [
    {
     "name": "stdout",
     "output_type": "stream",
     "text": [
      "Epoch [100/1000], Loss: 6396.1455\n",
      "Epoch [200/1000], Loss: 5938.0854\n",
      "Epoch [300/1000], Loss: 5930.0293\n",
      "Epoch [400/1000], Loss: 5929.8872\n",
      "Epoch [500/1000], Loss: 5929.8853\n",
      "Epoch [600/1000], Loss: 5929.8848\n",
      "Epoch [700/1000], Loss: 5929.8853\n",
      "Epoch [800/1000], Loss: 5929.8853\n",
      "Epoch [900/1000], Loss: 5929.8853\n",
      "Epoch [1000/1000], Loss: 5929.8853\n"
     ]
    }
   ],
   "source": [
    "import torch\n",
    "import torch.nn as nn\n",
    "import torch.optim as optim\n",
    "import sklearn.datasets\n",
    "\n",
    "# 당뇨병 데이터셋 로드\n",
    "diabetes = sklearn.datasets.load_diabetes()\n",
    "x = torch.from_numpy(diabetes['data']).float()\n",
    "y = torch.from_numpy(diabetes['target']).float().view(-1, 1)\n",
    "\n",
    "# 모델 정의\n",
    "class CustomModel(nn.Module):\n",
    "    def __init__(self):\n",
    "        super().__init__()\n",
    "        self.linear1 = nn.Linear(x.size(1), 5)\n",
    "        self.act = nn.ReLU()\n",
    "        self.linear2 = nn.Linear(5, 1)\n",
    "        \n",
    "    def forward(self, x):\n",
    "        x_temp = self.linear1(x)\n",
    "        x_temp2 = self.act(x_temp)\n",
    "        x_temp3 = self.linear2(x_temp2)\n",
    "        return x_temp3\n",
    "\n",
    "model = CustomModel()\n",
    "\n",
    "# 손실 함수 및 옵티마이저 정의\n",
    "criterion = nn.MSELoss()\n",
    "optimizer = optim.SGD(model.parameters(), lr=0.01)\n",
    "\n",
    "# 훈련\n",
    "epochs = 1000\n",
    "for epoch in range(epochs):\n",
    "    # Forward pass\n",
    "    predictions = model(x)\n",
    "    \n",
    "    # Loss 계산\n",
    "    loss = criterion(predictions, y)\n",
    "    \n",
    "    # Backward pass 및 가중치 업데이트\n",
    "    optimizer.zero_grad()\n",
    "    loss.backward()\n",
    "    optimizer.step()\n",
    "    \n",
    "    # 매 100번째 epoch마다 loss 출력\n",
    "    if (epoch + 1) % 100 == 0:\n",
    "        print(f'Epoch [{epoch+1}/{epochs}], Loss: {loss.item():.4f}')\n"
   ]
  },
  {
   "cell_type": "code",
   "execution_count": 45,
   "metadata": {},
   "outputs": [
    {
     "name": "stdout",
     "output_type": "stream",
     "text": [
      "Epoch [100/1000], Loss: 6273.7715\n",
      "Epoch [200/1000], Loss: 5783.8960\n",
      "Epoch [300/1000], Loss: 5704.4175\n",
      "Epoch [400/1000], Loss: 5634.4014\n",
      "Epoch [500/1000], Loss: 5566.7236\n",
      "Epoch [600/1000], Loss: 5501.1797\n",
      "Epoch [700/1000], Loss: 5437.6958\n",
      "Epoch [800/1000], Loss: 5376.2026\n",
      "Epoch [900/1000], Loss: 5316.6284\n",
      "Epoch [1000/1000], Loss: 5258.9092\n"
     ]
    }
   ],
   "source": [
    "import torch\n",
    "import torch.nn as nn\n",
    "import torch.optim as optim\n",
    "import sklearn.datasets\n",
    "\n",
    "# 당뇨병 데이터셋 로드\n",
    "diabetes = sklearn.datasets.load_diabetes()\n",
    "x = torch.from_numpy(diabetes['data']).float()\n",
    "y = torch.from_numpy(diabetes['target']).float().view(-1, 1)\n",
    "\n",
    "# 모델 정의\n",
    "class CustomModel(nn.Module):\n",
    "    def __init__(self):\n",
    "        super().__init__()\n",
    "        self.linear = nn.Linear(x.size(1), 1)\n",
    "        \n",
    "    def forward(self, x):\n",
    "        return self.linear(x)\n",
    "\n",
    "model = CustomModel()\n",
    "\n",
    "# 손실 함수 및 옵티마이저 정의\n",
    "criterion = nn.MSELoss()\n",
    "optimizer = optim.SGD(model.parameters(), lr=0.01)\n",
    "\n",
    "# 훈련\n",
    "epochs = 1000\n",
    "for epoch in range(epochs):\n",
    "    # Forward pass\n",
    "    predictions = model(x)\n",
    "    \n",
    "    # Loss 계산\n",
    "    loss = criterion(predictions, y)\n",
    "    \n",
    "    # Backward pass 및 가중치 업데이트\n",
    "    optimizer.zero_grad()\n",
    "    loss.backward()\n",
    "    optimizer.step()\n",
    "    \n",
    "    # 매 100번째 epoch마다 loss 출력\n",
    "    if (epoch + 1) % 100 == 0:\n",
    "        print(f'Epoch [{epoch+1}/{epochs}], Loss: {loss.item():.4f}')\n"
   ]
  },
  {
   "cell_type": "code",
   "execution_count": null,
   "metadata": {},
   "outputs": [],
   "source": []
  }
 ],
 "metadata": {
  "kernelspec": {
   "display_name": "pytorchlearn",
   "language": "python",
   "name": "python3"
  },
  "language_info": {
   "codemirror_mode": {
    "name": "ipython",
    "version": 3
   },
   "file_extension": ".py",
   "mimetype": "text/x-python",
   "name": "python",
   "nbconvert_exporter": "python",
   "pygments_lexer": "ipython3",
   "version": "3.8.15"
  }
 },
 "nbformat": 4,
 "nbformat_minor": 2
}
