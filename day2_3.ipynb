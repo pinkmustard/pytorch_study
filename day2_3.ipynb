{
 "cells": [
  {
   "cell_type": "code",
   "execution_count": 1,
   "metadata": {},
   "outputs": [],
   "source": [
    "import torch\n",
    "from torch.utils.data import Dataset, DataLoader\n",
    "import numpy as np\n",
    "class VariableLengthDataset(Dataset):\n",
    "    def __init__(self, num_samples=100, max_length=10):\n",
    "        self.sequences = [torch.tensor(np.random.rand(np.random.randint(1, max_length), 1), dtype=torch.float32) for _ in range(num_samples)]\n",
    "    def __len__(self):\n",
    "        return len(self.sequences)\n",
    "    def __getitem__(self, index):\n",
    "        return self.sequences[index]\n",
    "    \n",
    "def collate_fn(batch):\n",
    "    batch_padded = torch.nn.utils.rnn.pad_sequence(batch, batch_first=True,\n",
    "    padding_value=0)\n",
    "    lengths = torch.tensor([len(x) for x in batch], dtype=torch.int64)\n",
    "    return batch_padded, lengths\n",
    "    \n",
    "dataset = VariableLengthDataset(num_samples=200, max_length=20)\n",
    "data_loader = DataLoader(dataset, batch_size=8, shuffle=True, collate_fn=collate_fn)\n",
    "# 미니 배치 처리를 위해 앞서 정의한 collate_fn 함수"
   ]
  },
  {
   "cell_type": "code",
   "execution_count": 2,
   "metadata": {},
   "outputs": [],
   "source": [
    "import torch\n",
    "import torch.nn as nn\n",
    "class SimpleRNN(nn.Module):\n",
    "    def __init__(self, input_size, hidden_size, output_size):\n",
    "        super(SimpleRNN, self).__init__()\n",
    "        self.rnn = nn.RNN(input_size, hidden_size, batch_first=True)\n",
    "        self.fc = nn.Linear(hidden_size, output_size)\n",
    "    def forward(self, x, lengths):\n",
    "        # Pack the sequence for efficient processing\n",
    "        x_packed = nn.utils.rnn.pack_padded_sequence(x, lengths,\n",
    "        batch_first=True, enforce_sorted=False)\n",
    "        _, hidden = self.rnn(x_packed)\n",
    "        output = self.fc(hidden.squeeze(0))\n",
    "        return output\n",
    "# Initialize the model\n",
    "input_size = 1 # Number of features per time-step in the sequence\n",
    "hidden_size = 32\n",
    "output_size = 1\n",
    "model = SimpleRNN(input_size, hidden_size, output_size)"
   ]
  },
  {
   "cell_type": "code",
   "execution_count": 3,
   "metadata": {},
   "outputs": [
    {
     "name": "stdout",
     "output_type": "stream",
     "text": [
      "Epoch [1/5], Loss: 14.8983\n",
      "Epoch [2/5], Loss: 4.6178\n",
      "Epoch [3/5], Loss: 3.0110\n",
      "Epoch [4/5], Loss: 8.2044\n",
      "Epoch [5/5], Loss: 2.8750\n"
     ]
    }
   ],
   "source": [
    "criterion = nn.MSELoss()\n",
    "optimizer = torch.optim.Adam(model.parameters(), lr=0.001)\n",
    "num_epochs = 5\n",
    "for epoch in range(num_epochs):\n",
    "    model.train()\n",
    "    for inputs, lengths in data_loader:\n",
    "        # Assuming the target is the sum of the sequence\n",
    "        targets = inputs.sum(dim=1)\n",
    "        # Forward pass\n",
    "        outputs = model(inputs, lengths)\n",
    "        loss = criterion(outputs, targets)\n",
    "        # Backward pass and optimization\n",
    "        optimizer.zero_grad()\n",
    "        loss.backward()\n",
    "        optimizer.step()\n",
    "    print(f'Epoch [{epoch+1}/{num_epochs}], Loss: {loss.item():.4f}')"
   ]
  },
  {
   "cell_type": "code",
   "execution_count": 5,
   "metadata": {},
   "outputs": [],
   "source": [
    "# 연습 2\n",
    "class VariableLengthNegativeDataset(Dataset):\n",
    "    def __init__(self, num_samples=100, max_length=10, feature_range=(-1, 1)):\n",
    "        scale = feature_range[1] - feature_range[0]\n",
    "        self.sequences = [torch.tensor(scale * (np.random.rand(np.random.randint(1, max_length), 1) - 0.5), dtype=torch.float32) for _ in range(num_samples)]\n",
    "    def __len__(self):\n",
    "        return len(self.sequences)\n",
    "    def __getitem__(self, index):\n",
    "        return self.sequences[index]"
   ]
  },
  {
   "cell_type": "code",
   "execution_count": 7,
   "metadata": {},
   "outputs": [],
   "source": [
    "targets = inputs.clamp(min=0).sum(dim=1).unsqueeze(1)"
   ]
  },
  {
   "cell_type": "code",
   "execution_count": 9,
   "metadata": {},
   "outputs": [],
   "source": [
    "# 연습 3\n",
    "class VariableLengthNegativeDataset(Dataset):\n",
    "    def __init__(self, num_samples=100, max_length=10, feature_range=(-1, 1)):\n",
    "        scale = feature_range[1] - feature_range[0]\n",
    "        self.sequences = [torch.tensor(scale * (np.random.rand(np.random.randint(1, max_length), 1) - 0.5), dtype=torch.float32) for _ in range(num_samples)]\n",
    "    def __len__(self):\n",
    "        return len(self.sequences)\n",
    "    def __getitem__(self, index):\n",
    "        return self.sequences[index]"
   ]
  },
  {
   "cell_type": "code",
   "execution_count": 10,
   "metadata": {},
   "outputs": [],
   "source": [
    "targets = inputs.clamp(min=0).sum(dim=1).unsqueeze(1)"
   ]
  },
  {
   "cell_type": "code",
   "execution_count": null,
   "metadata": {},
   "outputs": [],
   "source": []
  }
 ],
 "metadata": {
  "kernelspec": {
   "display_name": "pytorchlearn",
   "language": "python",
   "name": "python3"
  },
  "language_info": {
   "codemirror_mode": {
    "name": "ipython",
    "version": 3
   },
   "file_extension": ".py",
   "mimetype": "text/x-python",
   "name": "python",
   "nbconvert_exporter": "python",
   "pygments_lexer": "ipython3",
   "version": "3.8.15"
  }
 },
 "nbformat": 4,
 "nbformat_minor": 2
}
