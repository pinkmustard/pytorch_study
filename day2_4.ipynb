{
 "cells": [
  {
   "cell_type": "code",
   "execution_count": 2,
   "metadata": {},
   "outputs": [],
   "source": [
    "import os\n",
    "import torch\n",
    "from torchtext.data.utils import get_tokenizer\n",
    "from torchtext.vocab import build_vocab_from_iterator\n",
    "from torch.utils.data import Dataset, DataLoader\n",
    "from torch.nn.utils.rnn import pad_sequence\n",
    "# Define the directory where the data is located\n",
    "DATA_DIR = \"./data/aclImdb\"\n",
    "# Tokenization\n",
    "tokenizer = get_tokenizer('basic_english')\n",
    "def yield_tokens(data_iter):\n",
    "    for _, text in data_iter:\n",
    "        yield tokenizer(text)\n",
    "# Building vocabulary\n",
    "def build_vocab(data_dir, split):\n",
    "    data_iter = iter_text(data_dir, split)\n",
    "    vocab = build_vocab_from_iterator(yield_tokens(data_iter), specials=[\"<unk>\"])\n",
    "    vocab.set_default_index(vocab[\"<unk>\"])\n",
    "    return vocab\n",
    "def iter_text(data_dir, split):\n",
    "    split_dir = os.path.join(data_dir, split)\n",
    "    for label in ['pos', 'neg']:\n",
    "        label_dir = os.path.join(split_dir, label)\n",
    "        for fname in os.listdir(label_dir):\n",
    "            with open(os.path.join(label_dir, fname), 'r', encoding='utf-8') as f:\n",
    "                text = f.read()\n",
    "                yield label, text\n",
    "# Create vocabulary\n",
    "vocab = build_vocab(DATA_DIR, 'train')"
   ]
  },
  {
   "cell_type": "code",
   "execution_count": 3,
   "metadata": {},
   "outputs": [],
   "source": [
    "class IMDbDataset(Dataset):\n",
    "    def __init__(self, data_dir, split, vocab):\n",
    "        self.vocab = vocab\n",
    "        self.data = []\n",
    "        self.labels = []\n",
    "        self.tokenizer = get_tokenizer('basic_english')\n",
    "        # Read data\n",
    "        split_dir = os.path.join(data_dir, split)\n",
    "        for label in ['pos', 'neg']:\n",
    "            label_dir = os.path.join(split_dir, label)\n",
    "            for fname in os.listdir(label_dir):\n",
    "                with open(os.path.join(label_dir, fname), 'r', encoding='utf-8') as f:\n",
    "                    text = f.read()\n",
    "                    self.data.append(torch.tensor(vocab(self.tokenizer(text)), dtype=torch.long))\n",
    "                    self.labels.append(1 if label == 'pos' else 0)\n",
    "                    \n",
    "    def __getitem__(self, idx):\n",
    "        return self.data[idx], self.labels[idx]\n",
    "    \n",
    "    def __len__(self):\n",
    "        return len(self.data)\n",
    "    \n",
    "# Collate function to pad sequences\n",
    "def collate_batch(batch):\n",
    "    label_list, text_list, lengths = [], [], []\n",
    "    for (_text, _label) in batch:\n",
    "        label_list.append(_label)\n",
    "        processed_text = torch.tensor(_text, dtype=torch.int64)\n",
    "        text_list.append(processed_text)\n",
    "        lengths.append(processed_text.size(0))\n",
    "    return torch.tensor(label_list, dtype=torch.int64), pad_sequence(text_list, padding_value=3.0), torch.tensor(lengths, dtype=torch.int64)\n",
    "# Create dataset and data loader\n",
    "train_dataset = IMDbDataset(DATA_DIR, 'train', vocab)\n",
    "train_loader = DataLoader(train_dataset, batch_size=8, shuffle=True, collate_fn=collate_batch)"
   ]
  },
  {
   "cell_type": "code",
   "execution_count": null,
   "metadata": {},
   "outputs": [],
   "source": []
  }
 ],
 "metadata": {
  "kernelspec": {
   "display_name": "pytorchlearn",
   "language": "python",
   "name": "python3"
  },
  "language_info": {
   "codemirror_mode": {
    "name": "ipython",
    "version": 3
   },
   "file_extension": ".py",
   "mimetype": "text/x-python",
   "name": "python",
   "nbconvert_exporter": "python",
   "pygments_lexer": "ipython3",
   "version": "3.8.15"
  }
 },
 "nbformat": 4,
 "nbformat_minor": 2
}
